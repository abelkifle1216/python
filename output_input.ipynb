{
 "cells": [
  {
   "cell_type": "code",
   "execution_count": null,
   "id": "510df746",
   "metadata": {},
   "outputs": [],
   "source": [
    "\"\"\"Input/Output\n",
    "1.Write a program that takes a user's name and age as input and prints: \"Hello [name], you are [age] years old.\"\"\"\n",
    "# Name & Age\n",
    "name = input(\"Enter your Name\")\n",
    "age = input(\"Enter your Age\")\n",
    "print(f\"Hello{name},you are {age} yers old\")\n"
   ]
  },
  {
   "cell_type": "code",
   "execution_count": null,
   "id": "acf96741",
   "metadata": {},
   "outputs": [],
   "source": [
    "\"\"\"2. Write a program that takes two numbers and prints their sum.\"\"\" \n",
    "#  sum of two numbers\n",
    "a = float(input(\"Enter First number\"))\n",
    "b = float(input(\"Enter second number\"))\n",
    "print(\"sum:\", a + b)"
   ]
  },
  {
   "cell_type": "code",
   "execution_count": null,
   "id": "21f53fad",
   "metadata": {},
   "outputs": [],
   "source": [
    "\"\"\"3. Write a program that reads a file and counts the number of words in it. \"\"\"\n",
    "# count word file\n",
    "file_name = input(\"Enter file:\")\n",
    "\n",
    "with open(file_name,\"r\") as file:\n",
    "    content = file.read()\n",
    "    words = content.split()\n",
    "print(\"Number of words :\", len(words))"
   ]
  },
  {
   "cell_type": "code",
   "execution_count": null,
   "id": "1806d3ef",
   "metadata": {},
   "outputs": [],
   "source": [
    "\"\"\"5. Write a program that reads a CSV file and converts it into a dictionary.\"\"\"\n",
    "# 5. CSV to dictionary\n",
    "import csv\n",
    "with open(\"data.csv\", newline=\"\") as f:\n",
    "    reader = csv.DictReader(f)\n",
    "    data = list(reader)\n",
    "print(data)\n",
    "\n"
   ]
  },
  {
   "cell_type": "code",
   "execution_count": null,
   "id": "c87e3a83",
   "metadata": {},
   "outputs": [],
   "source": [
    "\"\"\"6. Write a script that monitors a log file and alerts if a specific keywordappears.\"\"\"\n",
    "#Monitor log file for keyword\n",
    "\n",
    "keyword = \"ERROR\"\n",
    "with open(\"log.txt\", \"r\") as f:\n",
    "    for line in f:\n",
    "        if keyword in line:\n",
    "            print(\"ALERT:\", line.strip())"
   ]
  }
 ],
 "metadata": {
  "kernelspec": {
   "display_name": "Python 3",
   "language": "python",
   "name": "python3"
  },
  "language_info": {
   "codemirror_mode": {
    "name": "ipython",
    "version": 3
   },
   "file_extension": ".py",
   "mimetype": "text/x-python",
   "name": "python",
   "nbconvert_exporter": "python",
   "pygments_lexer": "ipython3",
   "version": "3.13.5"
  }
 },
 "nbformat": 4,
 "nbformat_minor": 5
}

{
 "cells": [
  {
   "cell_type": "code",
   "execution_count": null,
   "id": "41d9bb50",
   "metadata": {},
   "outputs": [],
   "source": [
    "\"\"\"Strings\n",
    "1.Write a Python program to reverse a given string (e.g., \"hello\" →\"olleh\"). \"\"\"\n",
    "# 1. Reverse string\n",
    "s = \"hello\"\n",
    "print(s[::-1])\n",
    "\n",
    "print(s)"
   ]
  },
  {
   "cell_type": "code",
   "execution_count": null,
   "id": "6467c57a",
   "metadata": {},
   "outputs": [],
   "source": [
    "\"\"\"2.Write a program that counts the number of vowels (a, e, i, o, u) in agiven string.\"\"\"\n",
    "# 2. Count vowels\n",
    "vowels = \"aeiou\"\n",
    "string = \"beautiful\"\n",
    "count = sum(1 for ch in string.lower() if ch in vowels)\n",
    "print(count)"
   ]
  },
  {
   "cell_type": "code",
   "execution_count": null,
   "id": "e3c7fdae",
   "metadata": {},
   "outputs": [],
   "source": [
    "\"\"\"3.Write a function that checks if two strings are anagrams (e.g., \"listen\" and \"silent\"). \"\"\"\n",
    "# 3. Check anagrams\n",
    "def are_anagrams(s1, s2):\n",
    "    return sorted(s1) == sorted(s2)\n",
    "print(are_anagrams(\"listen\", \"silent\"))"
   ]
  },
  {
   "cell_type": "code",
   "execution_count": null,
   "id": "dd06a741",
   "metadata": {},
   "outputs": [],
   "source": [
    "\"\"\".Write a function that implements the Caesar Cipher (shift letters by npositions).\"\"\" \n",
    "# 4. Word occurrences\n",
    "sentence = \"this is a test this is only a test\"\n",
    "word_count = {}\n",
    "for word in sentence.split():\n",
    "    word_count[word] = word_count.get(word, 0) + 1\n",
    "print(word_count)"
   ]
  },
  {
   "cell_type": "code",
   "execution_count": null,
   "id": "f747db0c",
   "metadata": {},
   "outputs": [],
   "source": [
    "\"\"\"5.Write a function that implements the Caesar Cipher (shift letters by npositions).\"\"\"\n",
    "# 5. Caesar cipher\n",
    "def caesar_cipher(text, shift):\n",
    "    result = \"\"\n",
    "    for char in text:\n",
    "        if char.isalpha():\n",
    "            base = 'A' if char.isupper() else 'a'\n",
    "            result += chr((ord(char) - ord(base) + shift) % 26 + ord(base))\n",
    "        else:\n",
    "            result += char\n",
    "    return result\n",
    "print(caesar_cipher(\"hello\", 3))"
   ]
  },
  {
   "cell_type": "code",
   "execution_count": null,
   "id": "d5c96b69",
   "metadata": {},
   "outputs": [],
   "source": [
    "\"\"\"6.Write a regex-based program to validate an email address\"\"\"\n",
    "# 6. Validate email\n",
    "import re\n",
    "email = \"test@example.com\"\n",
    "pattern = r\"^[\\w\\.-]+@[\\w\\.-]+\\.\\w+$\"\n",
    "print(bool(re.match(pattern, email)))"
   ]
  }
 ],
 "metadata": {
  "kernelspec": {
   "display_name": "Python 3",
   "language": "python",
   "name": "python3"
  },
  "language_info": {
   "codemirror_mode": {
    "name": "ipython",
    "version": 3
   },
   "file_extension": ".py",
   "mimetype": "text/x-python",
   "name": "python",
   "nbconvert_exporter": "python",
   "pygments_lexer": "ipython3",
   "version": "3.13.5"
  }
 },
 "nbformat": 4,
 "nbformat_minor": 5
}

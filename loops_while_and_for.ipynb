{
 "cells": [
  {
   "cell_type": "code",
   "execution_count": null,
   "id": "75f3f028",
   "metadata": {},
   "outputs": [],
   "source": [
    "# 1. Numbers 1-10\n",
    "for i in range(1, 11):\n",
    "    print(i)"
   ]
  },
  {
   "cell_type": "code",
   "execution_count": null,
   "id": "200165dc",
   "metadata": {},
   "outputs": [],
   "source": [
    "# 2. Multiplication table\n",
    "n = 3\n",
    "i = 1\n",
    "while i <= 10:\n",
    "    print(f\"{n} x {i} = {n*i}\")\n",
    "    i += 1"
   ]
  },
  {
   "cell_type": "code",
   "execution_count": null,
   "id": "1658a718",
   "metadata": {},
   "outputs": [],
   "source": [
    "# 3. Pyramid\n",
    "n = 3\n",
    "for i in range(1, n+1):\n",
    "    print(\"*\" * i)"
   ]
  },
  {
   "cell_type": "code",
   "execution_count": null,
   "id": "db1c276d",
   "metadata": {},
   "outputs": [],
   "source": [
    "# 4. Prime numbers\n",
    "num = 20\n",
    "for i in range(2, num+1):\n",
    "    if all(i % j != 0 for j in range(2, int(i**0.5)+1)):\n",
    "        print(i, end=\" \")"
   ]
  },
  {
   "cell_type": "code",
   "execution_count": null,
   "id": "d7de3ae1",
   "metadata": {},
   "outputs": [],
   "source": [
    "# 5. Factorial recursion\n",
    "def fact(n):\n",
    "    return 1 if n <= 1 else n * fact(n-1)\n",
    "print(fact(5))"
   ]
  },
  {
   "cell_type": "code",
   "execution_count": null,
   "id": "b9724e73",
   "metadata": {},
   "outputs": [],
   "source": [
    "\n",
    "# 6. Sum with *args\n",
    "def sum_all(*args):\n",
    "    return sum(args)\n",
    "print(sum_all(1, 2, 3))"
   ]
  },
  {
   "cell_type": "code",
   "execution_count": null,
   "id": "e4330765",
   "metadata": {},
   "outputs": [],
   "source": [
    "# 7. Skip 5\n",
    "for i in range(1, 11):\n",
    "    if i == 5:\n",
    "        continue\n",
    "    print(i)"
   ]
  },
  {
   "cell_type": "code",
   "execution_count": null,
   "id": "8c616615",
   "metadata": {},
   "outputs": [],
   "source": [
    "# 8. Stop at 7\n",
    "for i in range(1, 11):\n",
    "    if i == 7:\n",
    "        break\n",
    "    print(i)"
   ]
  },
  {
   "cell_type": "code",
   "execution_count": null,
   "id": "7a551dbd",
   "metadata": {},
   "outputs": [],
   "source": [
    "# 9. Tower of Hanoi\n",
    "def hanoi(n, source, target, aux):\n",
    "    if n == 1:\n",
    "        print(f\"Move disk 1 from {source} to {target}\")\n",
    "    else:\n",
    "        hanoi(n-1, source, aux, target)\n",
    "        print(f\"Move disk {n} from {source} to {target}\")\n",
    "        hanoi(n-1, aux, target, source)\n",
    "hanoi(3, \"A\", \"C\", \"B\")"
   ]
  }
 ],
 "metadata": {
  "kernelspec": {
   "display_name": "Python 3",
   "language": "python",
   "name": "python3"
  },
  "language_info": {
   "codemirror_mode": {
    "name": "ipython",
    "version": 3
   },
   "file_extension": ".py",
   "mimetype": "text/x-python",
   "name": "python",
   "nbconvert_exporter": "python",
   "pygments_lexer": "ipython3",
   "version": "3.13.5"
  }
 },
 "nbformat": 4,
 "nbformat_minor": 5
}

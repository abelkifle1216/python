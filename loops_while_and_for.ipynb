{
 "cells": [
  {
   "cell_type": "code",
   "execution_count": null,
   "id": "75f3f028",
   "metadata": {},
   "outputs": [],
   "source": [
    "\"\"\"Loops (while & for)\n",
    "1 Print numbers from 1 to 10 using a for loop.\"\"\" \n",
    "# 1. Numbers 1-10\n",
    "for i in range(1, 11):\n",
    "    print(i)"
   ]
  },
  {
   "cell_type": "code",
   "execution_count": null,
   "id": "200165dc",
   "metadata": {},
   "outputs": [],
   "source": [
    "\"\"\"2 Print the multiplication table of a given number using a while loop.\"\"\"\n",
    "# 2. Multiplication table\n",
    "n = 3\n",
    "i = 1\n",
    "while i <= 10:\n",
    "    print(f\"{n} x {i} = {n*i}\")\n",
    "    i += 1"
   ]
  },
  {
   "cell_type": "code",
   "execution_count": null,
   "id": "1658a718",
   "metadata": {},
   "outputs": [],
   "source": [
    "\"\"\"3 Print a pyramid pattern using * (e.g., for n=3: *\\n**\\n***)\"\"\"\n",
    "# 3. Pyramid\n",
    "n = 3\n",
    "for i in range(1, n+1):\n",
    "    print(\"*\" * i)"
   ]
  },
  {
   "cell_type": "code",
   "execution_count": null,
   "id": "db1c276d",
   "metadata": {},
   "outputs": [],
   "source": [
    "\"\"\"4 Write a program to find all prime numbers up to a given number.\"\"\"\n",
    "# 4. Prime numbers\n",
    "num = 20\n",
    "for i in range(2, num+1):\n",
    "    if all(i % j != 0 for j in range(2, int(i**0.5)+1)):\n",
    "        print(i, end=\" \")"
   ]
  },
  {
   "cell_type": "code",
   "execution_count": null,
   "id": "13eb79c6",
   "metadata": {},
   "outputs": [],
   "source": [
    "\"\"\"5 Functions (recursion, args/kwargs)\"\"\"\n",
    "# 5.function(recursion,args/kwards)\n",
    "def factorial(n):\n",
    "    \"\"\"Recursive function to calculate factorial of n\"\"\"\n",
    "    if n == 0 or n == 1:\n",
    "        return 1\n",
    "    return n * factorial(n-1)\n",
    "\n",
    "\n",
    "# Function with *args (variable number of positional arguments)\n",
    "def add_numbers(*args):\n",
    "    \"\"\"Add any number of numbers passed as arguments\"\"\"\n",
    "    return sum(args)\n",
    "\n",
    "\n",
    "# Function with **kwargs (variable keyword arguments)\n",
    "def greet_person(**kwargs):\n",
    "    \"\"\"Greets a person with provided details\"\"\"\n",
    "    for key, value in kwargs.items():\n",
    "        print(f\"{key}: {value}\")\n",
    "\n",
    "\n",
    "# --- Example usage ---\n",
    "print(\"Factorial of 5:\", factorial(5))   # Recursive call\n",
    "print(\"Sum of numbers:\", add_numbers(2, 4, 6, 8))  # *args usage\n",
    "greet_person(name=\"Alice\", age=21, city=\"New York\")  # **kwargs usage"
   ]
  },
  {
   "cell_type": "code",
   "execution_count": null,
   "id": "d7de3ae1",
   "metadata": {},
   "outputs": [],
   "source": [
    "\"\"\"6 Write a recursive function to compute the factorial of a number.\"\"\"\n",
    "#6. Factorial recursion\n",
    "def fact(n):\n",
    "    return 1 if n <= 1 else n * fact(n-1)\n",
    "print(fact(5))"
   ]
  },
  {
   "cell_type": "code",
   "execution_count": null,
   "id": "b9724e73",
   "metadata": {},
   "outputs": [],
   "source": [
    "\"\"\"7 Write a function that accepts any number of arguments and returnstheir sum.\"\"\"\n",
    "# 7. Sum with *args\n",
    "def sum_all(*args):\n",
    "    return sum(args)\n",
    "print(sum_all(1, 2, 3))"
   ]
  },
  {
   "cell_type": "code",
   "execution_count": null,
   "id": "e4330765",
   "metadata": {},
   "outputs": [],
   "source": [
    "\"\"\"8 Write a loop that prints numbers from 1 to 10 but skips 5 usingcontinue.\"\"\"\n",
    "# 8. Skip 5\n",
    "for i in range(1, 11):\n",
    "    if i == 5:\n",
    "        continue\n",
    "    print(i)"
   ]
  },
  {
   "cell_type": "code",
   "execution_count": null,
   "id": "8c616615",
   "metadata": {},
   "outputs": [],
   "source": [
    "\"\"\"9 Write a loop that stops when it encounters the number 7 using break.\"\"\"\n",
    "# 9. Stop at 7\n",
    "for i in range(1, 11):\n",
    "    if i == 7:\n",
    "        break\n",
    "    print(i)"
   ]
  },
  {
   "cell_type": "code",
   "execution_count": null,
   "id": "7a551dbd",
   "metadata": {},
   "outputs": [],
   "source": [
    "\"\"\"10 Write a program to solve the Tower of Hanoi problem recursively\"\"\"\n",
    "# 10. Tower of Hanoi\n",
    "def hanoi(n, source, target, aux):\n",
    "    if n == 1:\n",
    "        print(f\"Move disk 1 from {source} to {target}\")\n",
    "    else:\n",
    "        hanoi(n-1, source, aux, target)\n",
    "        print(f\"Move disk {n} from {source} to {target}\")\n",
    "        hanoi(n-1, aux, target, source)\n",
    "hanoi(3, \"A\", \"C\", \"B\")"
   ]
  },
  {
   "cell_type": "code",
   "execution_count": null,
   "id": "0ee9c3ce",
   "metadata": {},
   "outputs": [],
   "source": [
    "\"\"\"11 Simulate a tic-tac-toe game using loops and conditionals.\"\"\" \n",
    "# 11.tic-tac-toe simulation\n",
    "def print_board(board):\n",
    "    for row in board:\n",
    "        print(\" | \".join(row))\n",
    "        print(\"-\" * 5)\n",
    "\n",
    "def check_winner(board, player):\n",
    "    # Rows & Columns\n",
    "    for i in range(3):\n",
    "        if all(board[i][j] == player for j in range(3)) or \\\n",
    "           all(board[j][i] == player for j in range(3)):\n",
    "            return True\n",
    "    # Diagonals\n",
    "    if all(board[i][i] == player for i in range(3)) or \\\n",
    "       all(board[i][2-i] == player for i in range(3)):\n",
    "        return True\n",
    "    return False\n",
    "\n",
    "def tic_tac_toe():\n",
    "    board = [[\" \"]*3 for _ in range(3)]\n",
    "    players = [\"X\", \"O\"]\n",
    "    turn = 0\n",
    "\n",
    "    for move in range(9):  # Max 9 moves\n",
    "        print_board(board)\n",
    "        player = players[turn % 2]\n",
    "        print(f\"Player {player}'s turn\")\n",
    "\n",
    "        row = int(input(\"Enter row (0-2): \"))\n",
    "        col = int(input(\"Enter col (0-2): \"))\n",
    "\n",
    "        if board[row][col] == \" \":\n",
    "            board[row][col] = player\n",
    "            if check_winner(board, player):\n",
    "                print_board(board)\n",
    "                print(f\"Player {player} wins!\")\n",
    "                return\n",
    "            turn += 1\n",
    "        else:\n",
    "            print(\"Cell already taken! Try again.\")\n",
    "            continue\n",
    "\n",
    "    print_board(board)\n",
    "    print(\"It's a draw!\")\n",
    "\n",
    "# Example: Run the game\n",
    "# tic_tac_toe()"
   ]
  }
 ],
 "metadata": {
  "kernelspec": {
   "display_name": "Python 3",
   "language": "python",
   "name": "python3"
  },
  "language_info": {
   "codemirror_mode": {
    "name": "ipython",
    "version": 3
   },
   "file_extension": ".py",
   "mimetype": "text/x-python",
   "name": "python",
   "nbconvert_exporter": "python",
   "pygments_lexer": "ipython3",
   "version": "3.13.5"
  }
 },
 "nbformat": 4,
 "nbformat_minor": 5
}

{
 "cells": [
  {
   "cell_type": "code",
   "execution_count": 1,
   "id": "b2ef243a",
   "metadata": {},
   "outputs": [
    {
     "name": "stdout",
     "output_type": "stream",
     "text": [
      "Standard Calculater\n",
      "5.0 - 6.0 = -1.0\n",
      "Developed By:Abel K\n"
     ]
    }
   ],
   "source": [
    "\n",
    "\n",
    "\n",
    "\n",
    "def calculater():\n",
    "    print(\"Standard Calculater\")\n",
    "    try:\n",
    "        while True:\n",
    "            op = input(\"Enter the operater [+, -, /, *, ** and exit ]\")\n",
    "            if op.lower().strip()==\"exit\":\n",
    "                break\n",
    "            list_op = ['+','-','*','/','**']\n",
    "            if op not in list_op:\n",
    "                print(\"piease enter the correct operation\")\n",
    "                continue\n",
    "            numbers = []\n",
    "            while True:\n",
    "                number = input(\"please Enter the number or = sign to calculate the number\").strip()\n",
    "                if number ==\"=\":\n",
    "                    if len(numbers)<2:\n",
    "                        print(\"please enter at least 2 number\")\n",
    "                        continue\n",
    "                    break\n",
    "                try:\n",
    "                    num = float(number)\n",
    "                    numbers.append(num)\n",
    "                except ValueError:\n",
    "                    print(\"enter number the only\")\n",
    "                    continue\n",
    "# let's perform the operation\n",
    "                \"\"\" performing different arthimatic operations \n",
    "            after perfoming arthimatic\n",
    "            operation we have to store the result on some Variable\"\"\"\n",
    "            if op == \"+\":\n",
    "                result = numbers[0]\n",
    "                for number in numbers[1:]:\n",
    "                    result = result + number\n",
    "                print(\" + \".join(map(str, numbers)) + f\" = {result}\")\n",
    "            elif op == \"-\":\n",
    "                result = numbers[0]\n",
    "                for number in numbers[1:]:\n",
    "                    result = result - number\n",
    "                print(\" - \".join(map(str, numbers)) + f\" = {result}\")\n",
    "            elif op == \"*\":\n",
    "                result = numbers[0]\n",
    "                for number in numbers[1:]:\n",
    "                    result = result * number\n",
    "                print(\" *\".join(map(str, numbers)) + f\" = {result}\")   \n",
    "            elif op == \"/\":\n",
    "                result = numbers[0]\n",
    "                for number in numbers[1:]:\n",
    "                    try:\n",
    "                        if number ==0:\n",
    "                            raise ZeroDivisionError()\n",
    "                        result = result / number\n",
    "                    except ZeroDivisionError:\n",
    "                        print(\"denominater can not be zero\")\n",
    "                        continue\n",
    "                print(\" *\".join(map(str, numbers)) + f\" = {result}\") \n",
    "            elif op == \"**\":\n",
    "                result = numbers[0]\n",
    "                for number in numbers[1:]:\n",
    "                    result = result * number\n",
    "                print(\"**\".join(map(str, numbers)) + f\" = {result}\")   \n",
    "    except Exception as e:\n",
    "            print(f\"Operation Failed! {e}\")\n",
    "    print(\"Developed By:Abel K\")    \n",
    "calculater()"
   ]
  }
 ],
 "metadata": {
  "kernelspec": {
   "display_name": "Python 3",
   "language": "python",
   "name": "python3"
  },
  "language_info": {
   "codemirror_mode": {
    "name": "ipython",
    "version": 3
   },
   "file_extension": ".py",
   "mimetype": "text/x-python",
   "name": "python",
   "nbconvert_exporter": "python",
   "pygments_lexer": "ipython3",
   "version": "3.13.5"
  }
 },
 "nbformat": 4,
 "nbformat_minor": 5
}

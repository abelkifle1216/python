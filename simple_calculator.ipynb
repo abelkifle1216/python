{
 "cells": [
  {
   "cell_type": "code",
   "execution_count": null,
   "id": "9c9560fd",
   "metadata": {},
   "outputs": [],
   "source": [
    "def add(x, y): \n",
    "    return x + y \n",
    "\n",
    "def subtract(x, y): \n",
    "    return x - y\n",
    "\n",
    "def multiply(x, y):\n",
    "    return x * y\n",
    "\n",
    "def divide(x, y):\n",
    "    if y == 0:\n",
    "        return \"Error! division by zero.\"\n",
    "    return x / y\n",
    "\n",
    "def main():\n",
    "    print (\"welcome to the simple calculater!\")\n",
    "    while True:\n",
    "        print(\"\\nselect opertion:\")\n",
    "        print(\"1. Add (+)\")\n",
    "        print(\"2. Subtract (-)\")\n",
    "        print(\"3. Multiply(*)\")\n",
    "        print(\"4. Divide (/)\")\n",
    "        print(\"5. Exit\")\n",
    "        \n",
    "        choice = input(\"Enter choice (1/2/3/4/5): \")  \n",
    "\n",
    "        if choice == '5':\n",
    "            print(\"Goodbay!\")\n",
    "            break\n",
    "\n",
    "        if choice in ('1', '2', '3', '4'):\n",
    "            try:\n",
    "                num1 = float(input(\"Enter first number: \"))\n",
    "                num2 = float(input(\"Enter second number: \" ))\n",
    "            except ValueError :\n",
    "                print(\"Invalid input! please enter numbers.\")\n",
    "                continue\n",
    "            if choice == '1': \n",
    "                print(f\"Result: {num1} + {num2} = {add(num1, num2)}\")\n",
    "            elif choice == '2':\n",
    "                print(f\"Result: {num1} - {num2} = {subtract(num1, num2)}\")\n",
    "            elif choice == '3':\n",
    "                print(f\"Result: {num1} * {num2} = {multiply(num1, num2)}\")\n",
    "            elif choice =='4':\n",
    "                result = divide(num1, num2)\n",
    "                print(f\"Result: {num1} / {num2} = {result}\")\n",
    "        else:\n",
    "            print(\"Invalied choice! please select  a valid option. \")\n",
    "if __name__== \"__main__\":\n",
    " main()       "
   ]
  }
 ],
 "metadata": {
  "kernelspec": {
   "display_name": "Python 3",
   "language": "python",
   "name": "python3"
  },
  "language_info": {
   "codemirror_mode": {
    "name": "ipython",
    "version": 3
   },
   "file_extension": ".py",
   "mimetype": "text/x-python",
   "name": "python",
   "nbconvert_exporter": "python",
   "pygments_lexer": "ipython3",
   "version": "3.13.5"
  }
 },
 "nbformat": 4,
 "nbformat_minor": 5
}

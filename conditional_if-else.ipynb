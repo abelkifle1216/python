{
 "cells": [
  {
   "cell_type": "code",
   "execution_count": null,
   "id": "fbd93369",
   "metadata": {},
   "outputs": [],
   "source": [
    "\"\"\"1.Write a program to check if a number is even or odd. \"\"\"\n",
    "# 1. Even or odd\n",
    "n = 5\n",
    "print(\"Even\" if n % 2 == 0 else \"Odd\")"
   ]
  },
  {
   "cell_type": "code",
   "execution_count": null,
   "id": "6062b434",
   "metadata": {},
   "outputs": [],
   "source": [
    "\"\"\"2.Given three numbers, find the largest one using if-elif-else.\"\"\"\n",
    "# 2. Largest of three\n",
    "a, b, c = 5, 8, 3\n",
    "print(max(a, b, ))"
   ]
  },
  {
   "cell_type": "code",
   "execution_count": null,
   "metadata": {},
   "outputs": [],
   "source": [
    "\"\"\"3.Write a program that categorizes a given age into child (<13), teen(13-19), adult (20+). \"\"\"\n",
    "# 3. Age category\n",
    "age = 15\n",
    "if age < 13:\n",
    "    print(\"Child\")\n",
    "elif age <= 19:\n",
    "    print(\"Teen\")\n",
    "else:\n",
    "    print(\"Adult\")"
   ]
  },
  {
   "cell_type": "code",
   "execution_count": null,
   "id": "eecdb033",
   "metadata": {},
   "outputs": [],
   "source": [
    "\"\"\"4.Given three sides of a triangle, determine if it’s equilateral, isosceles, or scalene.\"\"\" \n",
    "# 4. Triangle type\n",
    "a, b, c = 3, 3, 3\n",
    "if a == b == c:\n",
    "    print(\"Equilateral\")\n",
    "elif a == b or b == c or a == c:\n",
    "    print(\"Isosceles\")\n",
    "else:\n",
    "    print(\"Scalene\")"
   ]
  }
 ],
 "metadata": {
  "kernelspec": {
   "display_name": "Python 3",
   "language": "python",
   "name": "python3"
  },
  "language_info": {
   "codemirror_mode": {
    "name": "ipython",
    "version": 3
   },
   "file_extension": ".py",
   "mimetype": "text/x-python",
   "name": "python",
   "nbconvert_exporter": "python",
   "pygments_lexer": "ipython3",
   "version": "3.13.5"
  }
 },
 "nbformat": 4,
 "nbformat_minor": 5
}

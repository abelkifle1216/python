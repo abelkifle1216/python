{
 "cells": [
  {
   "cell_type": "markdown",
   "id": "0370e98b",
   "metadata": {},
   "source": [
    "\n",
    "\n",
    "\n",
    "# ***Introduction to python***"
   ]
  },
  {
   "cell_type": "markdown",
   "id": "856cd4c6",
   "metadata": {},
   "source": [
    "## Let's *dive* into our `first` python program      \n",
    "\n",
    "1. basics   \n",
    "\n",
    "* python programming"
   ]
  },
  {
   "cell_type": "code",
   "execution_count": 1,
   "id": "7fcc62b4",
   "metadata": {},
   "outputs": [
    {
     "data": {
      "text/plain": [
       "7"
      ]
     },
     "execution_count": 1,
     "metadata": {},
     "output_type": "execute_result"
    }
   ],
   "source": [
    "5+2"
   ]
  },
  {
   "cell_type": "code",
   "execution_count": null,
   "id": "6d1f90e5",
   "metadata": {},
   "outputs": [],
   "source": [
    "# store input date in variabeles\n",
    "import numbers\n",
    "\n",
    "\n",
    "cost_of_ice_bag =1.25\n",
    "profite_margin = .2\n",
    "number_of_bags = 500\n",
    "\n",
    "# perform the required calculation \n",
    "\"\"\"asfsaafaffafsfaasfasasfasafafsafsfasfafsafsasfafasafafsff\n",
    "fhasffasafsasfasfgasfafasasasasaj\n",
    "fgaasadsasgfgfagdffdgfdghafdgafsgadfdaaadsdds\n",
    "adafgafsafsgaffasafaagfag\"\"\"\n",
    "\n",
    "profit_per_bag = cost_of_ice_bag * profite_margin\n",
    "total_profit = number_of_bags * profit_per_bag\n",
    "\n",
    "#display the result\n",
    "print(\"the grocery store makes a total proift of $\"),total_profit\n"
   ]
  },
  {
   "cell_type": "code",
   "execution_count": null,
   "id": "b99432c1",
   "metadata": {},
   "outputs": [],
   "source": [
    "x,y = 4,5\n",
    "z = x+y\n",
    "print(\"summation of x and y==\")"
   ]
  },
  {
   "cell_type": "code",
   "execution_count": null,
   "id": "554e5e5f",
   "metadata": {},
   "outputs": [],
   "source": [
    "# Given data\n",
    "price_per_bag = 1.25\n",
    "profite_persentage = 20 # in persent\n",
    "number_of_bags = 500\n",
    "\n",
    "# calculate profit per bag\n",
    "profite_per_bag =price_per_bag * (profite_persentage/100)\n",
    "\n",
    "#total profite per bag\n",
    "profite_per_bag = profite_per_bag * (profite_persentage/100)\n",
    "\n",
    "#calculate total profite\n",
    "total_profit = profite_per_bag * number_of_bags\n",
    "\n",
    "# output the result\n",
    "print(f\"the total profite from selling {number_of_bags} bags of ice is ${total_profit:.2f}\")\n"
   ]
  },
  {
   "cell_type": "code",
   "execution_count": null,
   "id": "f7538e96",
   "metadata": {},
   "outputs": [],
   "source": [
    "import math\n",
    "#radius = float(input(\"Enter the radius\"))\n",
    "radius = 10\n",
    "area = math.pi ** radius ** 2\n",
    "print(f\"the area of the circle with radius {radius}\")"
   ]
  },
  {
   "cell_type": "code",
   "execution_count": 28,
   "id": "d7eeb666",
   "metadata": {},
   "outputs": [],
   "source": [
    "# simple console-Based calculator\n",
    "# Author: Abel \n",
    "from multiprocessing import Value\n",
    "from random import choice\n",
    "from traceback import print_tb\n",
    "\n",
    "def add(x, y): \n",
    "    return x + y \n",
    "\n",
    "def subtract(x, y): \n",
    "    return x - y\n",
    "\n",
    "def multiply(x, y):\n",
    "    return x * y\n",
    "\n",
    "def divide(x, y):\n",
    "    if y == 0:\n",
    "        return \"Error! division by zero.\"\n",
    "    return x / y\n",
    "\n",
    "def main():\n",
    "    print (\"welcome to the simple calculater!\")\n",
    "    while True:\n",
    "        print(\"\\nselect opertion:\")\n",
    "        print(\"1. Add (+)\")\n",
    "        print(\"2. Subtract (-)\")\n",
    "        print(\"3. Multiply(*)\")\n",
    "        print(\"4. Divide (/)\")\n",
    "        print(\"5. Exit\")\n",
    "        \n",
    "        choice = input(\"Enter choice (1/2/3/4/5): \") \n",
    "\n",
    "        if choice == '5':\n",
    "            print(\"Goodbay!\")\n",
    "            break\n",
    "\n",
    "        if choice in ('1', '2', '3', '4'):\n",
    "            try:\n",
    "                num1 = float(input(\"Enter first number: \"))\n",
    "                num2 = float(input(\"Enter second number: \" ))\n",
    "            except ValueError :\n",
    "                print(\"Invalid input! please enter number.\")\n",
    "                continue\n",
    "            if choice == '1': \n",
    "                print(f\"Result: {num1} + {num2} = {add(num1, num2)}\")\n",
    "            elif choice == '2':\n",
    "                print(f\"Result: {num1} - {num2} = {subtract(num1, num2)}\")\n",
    "            elif choice == '3':\n",
    "                print(f\"Result: {num1} * {num2} = {multiply(num1, num2)}\")\n",
    "            elif choice == '4':\n",
    "                result = divide(num1, num2)\n",
    "                print(f\"Result: {num1} / {num2} = {result}\")\n",
    "        else:\n",
    "            print(\"Invalied choice! please select  a valid option. \")\n",
    "if __name__== \"_main_\":\n",
    " main()\n",
    "            "
   ]
  },
  {
   "cell_type": "code",
   "execution_count": 1,
   "id": "bcb07e18",
   "metadata": {},
   "outputs": [
    {
     "name": "stdout",
     "output_type": "stream",
     "text": [
      "Name: Abel Kifle\n",
      "age: 17\n",
      "City: tepi\n",
      "email: abelkifle1216gmail.com\n",
      "phone number: +251932914589\n"
     ]
    }
   ],
   "source": [
    "# Define personal info \n",
    "name= \"Abel Kifle\"\n",
    "age=\"17\"\n",
    "city=\"tepi\" \n",
    "email=\"abelkifle1216gmail.com\" \n",
    "phonenumber= \"+251932914589\"\n",
    "\n",
    "# print personal info\n",
    "print(\"Name:\",name)\n",
    "print(\"age:\",age)\n",
    "print(\"City:\",city)\n",
    "print(\"email:\",email)\n",
    "print(\"phone number:\",phonenumber)"
   ]
  },
  {
   "cell_type": "code",
   "execution_count": 2,
   "id": "18c03381",
   "metadata": {},
   "outputs": [
    {
     "name": "stdout",
     "output_type": "stream",
     "text": [
      "Name: Abel Kifle\n",
      "age: 17\n",
      "city: tepi\n",
      "email: abelkifle1216@gmail.com\n",
      "phonenumber: +251932914589\n"
     ]
    }
   ],
   "source": [
    "# ask the user fur their personal info\n",
    "name = input(\"enter your name:\")\n",
    "age = input(\"enter your age:\")\n",
    "city = input(\"enter your city:\")\n",
    "email = input(\"ente your email:\")\n",
    "phonenumber = input(\"enter your phone number:\")\n",
    "\n",
    "# print the info\n",
    "print(\"Name:\",name)\n",
    "print(\"age:\",age)\n",
    "print(\"city:\",city)\n",
    "print(\"email:\",email)\n",
    "print (\"phonenumber:\",phonenumber)"
   ]
  },
  {
   "cell_type": "code",
   "execution_count": null,
   "id": "f6117373",
   "metadata": {},
   "outputs": [],
   "source": []
  }
 ],
 "metadata": {
  "kernelspec": {
   "display_name": "Python 3",
   "language": "python",
   "name": "python3"
  },
  "language_info": {
   "codemirror_mode": {
    "name": "ipython",
    "version": 3
   },
   "file_extension": ".py",
   "mimetype": "text/x-python",
   "name": "python",
   "nbconvert_exporter": "python",
   "pygments_lexer": "ipython3",
   "version": "3.13.5"
  }
 },
 "nbformat": 4,
 "nbformat_minor": 5
}

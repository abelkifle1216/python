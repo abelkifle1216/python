{
 "cells": [
  {
   "cell_type": "code",
   "execution_count": null,
   "id": "b88a5dba",
   "metadata": {},
   "outputs": [],
   "source": [
    "\"\"\"Tuples, Lists and Dictionary\n",
    "I. Write a program to find the length of a tuple without using len().\"\"\"\n",
    "t = (1, 2, 3)\n",
    "count = sum(1 for _ in t)\n",
    "print(count)"
   ]
  },
  {
   "cell_type": "code",
   "execution_count": null,
   "id": "4eb0210e",
   "metadata": {},
   "outputs": [],
   "source": [
    "\"\"\"II. Create a tuple with numbers and print the maximum and minimumvalues. \"\"\"\n",
    "\n",
    "# I. Length of tuple without len()\n",
    "t = (1, 2, 3)\n",
    "count = sum(1 for _ in t)\n",
    "print(count)"
   ]
  },
  {
   "cell_type": "code",
   "execution_count": null,
   "id": "7117df31",
   "metadata": {},
   "outputs": [],
   "source": [
    "\"\"\"III. Write a program to remove duplicates from a list. \"\"\"\n",
    "\n",
    "# III. Remove duplicates\n",
    "lst = [1, 2, 2, 3]\n",
    "lst = list(set(lst))\n",
    "print(lst)\n"
   ]
  },
  {
   "cell_type": "code",
   "execution_count": null,
   "id": "7bd69826",
   "metadata": {},
   "outputs": [],
   "source": [
    "\"\"\"IV. Given a list [1, 2, 3, 4, 5], square each element and store it in a newlist.\"\"\"\n",
    "# IV. Square each element\n",
    "nums = [1, 2, 3, 4, 5]\n",
    "squares = [x**2 for x in nums]\n",
    "print(squares)"
   ]
  },
  {
   "cell_type": "code",
   "execution_count": null,
   "id": "3b74fb5a",
   "metadata": {},
   "outputs": [],
   "source": [
    "\"\"\"V. Write a program to merge two dictionaries. \"\"\"\n",
    "# V. Merge dictionaries\n",
    "d1 = {'a': 1}\n",
    "d2 = {'b': 2}\n",
    "merged = {**d1, **d2}\n",
    "print(merged)"
   ]
  },
  {
   "cell_type": "code",
   "execution_count": null,
   "id": "882065c3",
   "metadata": {},
   "outputs": [],
   "source": [
    "\"\"\"VI. Given a dictionary {'a': 1, 'b': 2, 'c': 3}, swap keys and values (output:{1: 'a', 2: 'b', 3: 'c'}).\"\"\" \n",
    "# VI. Swap keys and values\n",
    "d = {'a': 1, 'b': 2, 'c': 3}\n",
    "swapped = {v: k for k, v in d.items()}\n",
    "print(swapped)"
   ]
  },
  {
   "cell_type": "code",
   "execution_count": null,
   "id": "c3b499dc",
   "metadata": {},
   "outputs": [],
   "source": [
    "\"\"\"VII. Write a function that returns the n-th Fibonacci number usingmemoization (optimization)\"\"\"\n",
    "# VII. Fibonacci with memoization\n",
    "from functools import lru_cache\n",
    "@lru_cache(None)\n",
    "def fib(n):\n",
    "    return n if n < 2 else fib(n-1) + fib(n-2)\n",
    "print(fib(10))"
   ]
  },
  {
   "cell_type": "code",
   "execution_count": null,
   "id": "612c8753",
   "metadata": {},
   "outputs": [],
   "source": [
    "\"\"\"VIII. Implement a list comprehension that generates all Pythagoreantriplets up to n.\"\"\"\n",
    "# VIII. Pythagorean triplets\n",
    "n = 20\n",
    "triplets = [(a, b, c) for a in range(1, n)\n",
    "            for b in range(a, n)\n",
    "            for c in range(b, n)\n",
    "            if a*a + b*b == c*c]\n",
    "print(triplets)"
   ]
  },
  {
   "cell_type": "code",
   "execution_count": null,
   "id": "eb73f011",
   "metadata": {},
   "outputs": [],
   "source": [
    "\"\"\"IX. Write a function that simulates a shopping cart using nesteddictionaries (add/remove items, calculate total)\"\"\"\n",
    "# IX. Shopping cart\n",
    "cart = {}\n",
    "def add_item(name, price, qty):\n",
    "    cart[name] = {\"price\": price, \"qty\": qty}\n",
    "def total():\n",
    "    return sum(v[\"price\"] * v[\"qty\"] for v in cart.values())\n",
    "add_item(\"apple\", 2, 3)\n",
    "print(total())"
   ]
  },
  {
   "cell_type": "code",
   "execution_count": null,
   "id": "91548d9e",
   "metadata": {},
   "outputs": [],
   "source": [
    "\"\"\"X. Implement a dictionary-based cache system with a max_size (LRUeviction).\"\"\"\n",
    "# X. LRU cache\n",
    "from collections import OrderedDict\n",
    "class LRUCache:\n",
    "    def __init__(self, max_size):\n",
    "        self.cache = OrderedDict()\n",
    "        self.max_size = max_size\n",
    "    def get(self, key):\n",
    "        if key in self.cache:\n",
    "            self.cache.move_to_end(key)\n",
    "            return self.cache[key]\n",
    "        return None\n",
    "    def put(self, key, value):\n",
    "        self.cache[key] = value\n",
    "        self.cache.move_to_end(key)\n",
    "        if len(self.cache) > self.max_size:\n",
    "            self.cache.popitem(last=False)"
   ]
  },
  {
   "cell_type": "code",
   "execution_count": null,
   "id": "f49c8d11",
   "metadata": {},
   "outputs": [],
   "source": [
    "\"\"\"XI. Write a function that takes a tuple of numbers and returns a new tuplewith only even numbers\"\"\"\n",
    "# XI. Even numbers from tuple\n",
    "nums = (1, 2, 3, 4)\n",
    "evens = tuple(x for x in nums if x % 2 == 0)\n",
    "print(evens)"
   ]
  },
  {
   "cell_type": "code",
   "execution_count": null,
   "id": "dbe9ee5a",
   "metadata": {},
   "outputs": [],
   "source": [
    "\"\"\"XII. Write a program to sort a list of tuples based on the second element(e.g., [('a', 3), ('b', 1)] → [('b', 1), ('a', 3)]).\"\"\"\n",
    "# XII. Sort by second element\n",
    "pairs = [('a', 3), ('b', 1)]\n",
    "print(sorted(pairs, key=lambda x: x[1]))"
   ]
  },
  {
   "cell_type": "code",
   "execution_count": null,
   "id": "e7f76295",
   "metadata": {},
   "outputs": [],
   "source": [
    "\"\"\"XIII. Write a function to flatten a nested list (e.g., [[1, 2], [3, 4]] → [1, 2, 3, 4]). \"\"\"\n",
    "# XIII. Flatten list\n",
    "nested = [[1, 2], [3, 4]]\n",
    "flat = [item for sub in nested for item in sub]\n",
    "print(flat)"
   ]
  },
  {
   "cell_type": "code",
   "execution_count": null,
   "id": "52359cc8",
   "metadata": {},
   "outputs": [],
   "source": [
    "\"\"\"XIV. Write a program to remove all occurrences of a specific elementfrom a list.\"\"\" \n",
    "# XIV. Remove element\n",
    "lst = [1, 2, 3, 2]\n",
    "target = 2\n",
    "lst = [x for x in lst if x != target]\n",
    "print(lst)"
   ]
  },
  {
   "cell_type": "code",
   "execution_count": null,
   "id": "bca4d2d9",
   "metadata": {},
   "outputs": [],
   "source": [
    "\"\"\"XV. Write a function that inverts a dictionary (handle duplicate valuesby storing them in a list).\"\"\"\n",
    "# XIV. Remove element\n",
    "lst = [1, 2, 3, 2]\n",
    "target = 2\n",
    "lst = [x for x in lst if x != target]\n",
    "print(lst)"
   ]
  },
  {
   "cell_type": "code",
   "execution_count": null,
   "id": "58f05cb2",
   "metadata": {},
   "outputs": [],
   "source": [
    "\"\"\"XVI. Given a dictionary of student marks, find the student with thehighest average score.\"\"\"\n",
    "# XVI. Student with highest average\n",
    "students = {\"Abel\": [80, 90], \"Abel\": [85, 95]}\n",
    "top_student = max(students, key=lambda x: sum(students[x])/len(students[x]))\n",
    "print(top_student)"
   ]
  }
 ],
 "metadata": {
  "kernelspec": {
   "display_name": "Python 3",
   "language": "python",
   "name": "python3"
  },
  "language_info": {
   "codemirror_mode": {
    "name": "ipython",
    "version": 3
   },
   "file_extension": ".py",
   "mimetype": "text/x-python",
   "name": "python",
   "nbconvert_exporter": "python",
   "pygments_lexer": "ipython3",
   "version": "3.13.5"
  }
 },
 "nbformat": 4,
 "nbformat_minor": 5
}

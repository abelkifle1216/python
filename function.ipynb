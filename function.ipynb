{
 "cells": [
  {
   "cell_type": "code",
   "execution_count": null,
   "id": "188a4795",
   "metadata": {},
   "outputs": [],
   "source": [
    "\"\"\"Function\n",
    "1.Write a function that takes a number and returns its sqeuar.\"\"\"\n",
    "# 2 square function\n",
    "def square(n):\n",
    "    return n * n\n",
    "print(square(4))"
   ]
  },
  {
   "cell_type": "code",
   "execution_count": null,
   "id": "fcaac2dc",
   "metadata": {},
   "outputs": [],
   "source": [
    "\"\"\"2.Write a function that checks if a string is a palindrome (e.g., \"madam\").\"\"\"\n",
    "# 2. Palindrome\n",
    "def is_palindrome(s):\n",
    "    return s == s[::-1]\n",
    "print(is_palindrome(\"madam\"))"
   ]
  },
  {
   "cell_type": "code",
   "execution_count": null,
   "id": "dda1d78b",
   "metadata": {},
   "outputs": [],
   "source": [
    "\"\"\"3.Write a decorator that logs the execution time of a function.\"\"\"\n",
    "# 3. Decorator for execution time\n",
    "import time\n",
    "def timer(func):\n",
    "    def wrapper(*args, **kwargs):\n",
    "        start = time.time()\n",
    "        result = func(*args, **kwargs)\n",
    "        print(\"Execution time:\", time.time() - start)\n",
    "        return result\n",
    "    return wrapper\n",
    "\n",
    "@timer\n",
    "def test():\n",
    "    time.sleep(1)\n",
    "test()"
   ]
  },
  {
   "cell_type": "code",
   "execution_count": null,
   "id": "bd96b88f",
   "metadata": {},
   "outputs": [],
   "source": [
    "\"\"\"4.Write a generator function that yields an infinite sequence of primenumbers\"\"\"\n",
    "# 4. Infinite prime generator\n",
    "def prime_generator():\n",
    "    n = 2\n",
    "    while True:\n",
    "        if all(n % i != 0 for i in range(2, int(n**0.5) + 1)):\n",
    "            yield n\n",
    "        n += 1\n",
    "\n",
    "primes = prime_generator()\n",
    "for _ in range(5):\n",
    "    print(next(primes))"
   ]
  }
 ],
 "metadata": {
  "kernelspec": {
   "display_name": "Python 3",
   "language": "python",
   "name": "python3"
  },
  "language_info": {
   "codemirror_mode": {
    "name": "ipython",
    "version": 3
   },
   "file_extension": ".py",
   "mimetype": "text/x-python",
   "name": "python",
   "nbconvert_exporter": "python",
   "pygments_lexer": "ipython3",
   "version": "3.13.5"
  }
 },
 "nbformat": 4,
 "nbformat_minor": 5
}
